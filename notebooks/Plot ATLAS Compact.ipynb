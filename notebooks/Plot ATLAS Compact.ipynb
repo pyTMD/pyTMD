{
 "cells": [
  {
   "cell_type": "markdown",
   "metadata": {},
   "source": [
    "Plot ATLAS Compact\n",
    "==================\n",
    "\n",
    "Check if a given point is within a tide model domain\n",
    "\n",
    "OTIS format tidal solutions provided by Ohio State University and ESR  \n",
    "- http://volkov.oce.orst.edu/tides/region.html  \n",
    "\n",
    "#### Python Dependencies\n",
    " - [numpy: Scientific Computing Tools For Python](https://www.numpy.org)  \n",
    " - [scipy: Scientific Tools for Python](https://www.scipy.org/)  \n",
    " - [pyproj: Python interface to PROJ library](https://pypi.org/project/pyproj/)  \n",
    " - [netCDF4: Python interface to the netCDF C library](https://unidata.github.io/netcdf4-python/)  \n",
    " - [matplotlib: Python 2D plotting library](https://matplotlib.org/)  \n",
    "\n",
    "#### Program Dependencies\n",
    "\n",
    "- `convert_ll_xy.py`: convert lat/lon points to and from projected coordinates  \n",
    "- `model.py`: retrieves tide model parameters for named tide models\n",
    "- `read_tide_model.py`: extract tidal harmonic constants from OTIS tide models  \n",
    "\n",
    "This notebook uses Jupyter widgets to set parameters for calculating the tidal maps."
   ]
  },
  {
   "cell_type": "markdown",
   "metadata": {},
   "source": [
    "#### Load modules"
   ]
  },
  {
   "cell_type": "code",
   "execution_count": 1,
   "metadata": {},
   "outputs": [],
   "source": [
    "from __future__ import print_function\n",
    "\n",
    "import os\n",
    "import numpy as np\n",
    "import matplotlib.pyplot as plt\n",
    "import ipywidgets as widgets\n",
    "\n",
    "import pyTMD.time\n",
    "import pyTMD.model\n",
    "import pyTMD.tools\n",
    "import pyTMD.read_tide_model\n",
    "# autoreload\n",
    "%load_ext autoreload\n",
    "%autoreload 2"
   ]
  },
  {
   "cell_type": "code",
   "execution_count": 3,
   "metadata": {},
   "outputs": [
    {
     "data": {
      "application/vnd.jupyter.widget-view+json": {
       "model_id": "753f8d63d69b40a6af1b863c1d3f99f1",
       "version_major": 2,
       "version_minor": 0
      },
      "text/plain": [
       "VBox(children=(Text(value='/home/tsutterley/github/pyTMD/notebooks', description='Directory:'), Dropdown(descr…"
      ]
     },
     "metadata": {},
     "output_type": "display_data"
    }
   ],
   "source": [
    "# available model list\n",
    "model_list = sorted(pyTMD.model.ATLAS_compact())\n",
    "# display widgets for setting directory and model\n",
    "TMDwidgets = pyTMD.tools.widgets()\n",
    "TMDwidgets.model.options = model_list\n",
    "TMDwidgets.model.value = 'TPXO8-atlas'\n",
    "TMDwidgets.compress.value = False\n",
    "widgets.VBox([\n",
    "    TMDwidgets.directory,\n",
    "    TMDwidgets.model,\n",
    "    TMDwidgets.compress,\n",
    "])"
   ]
  },
  {
   "cell_type": "code",
   "execution_count": null,
   "metadata": {},
   "outputs": [],
   "source": [
    "# get model parameters\n",
    "model = pyTMD.model(TMDwidgets.directory.value,\n",
    "    compressed=TMDwidgets.compress.value\n",
    "   ).elevation(TMDwidgets.model.value)\n",
    "# read each constituent\n",
    "constituents,nc = pyTMD.read_tide_model.read_constituents(model.model_file)"
   ]
  },
  {
   "cell_type": "code",
   "execution_count": null,
   "metadata": {},
   "outputs": [],
   "source": [
    "# if reading a global solution with localized solutions\n",
    "x0,y0,hz0,mz0,iob,dt,pmask,local = pyTMD.read_tide_model.read_atlas_grid(model.grid_file)\n",
    "xi,yi,hz = pyTMD.read_tide_model.combine_atlas_model(x0,y0,hz0,pmask,local,VARIABLE='depth')\n",
    "mz = pyTMD.read_tide_model.create_atlas_mask(x0,y0,mz0,local,VARIABLE='depth')\n",
    "# resample global solution to 2 arc-minute solution\n",
    "x30,y30,hz30 = pyTMD.read_tide_model.interpolate_atlas_model(x0,y0,hz0)\n",
    "\n",
    "# plot the difference between ATLAS depth\n",
    "fig,ax1 = plt.subplots(num=1, figsize=(8.25,5.25), dpi=200)\n",
    "ax1.imshow(hz30 - hz, interpolation='nearest',\n",
    "    extent=(xi.min(),xi.max(),yi.min(),yi.max()),\n",
    "    vmin=-100, vmax=100, origin='lower', cmap='coolwarm')\n",
    "# no ticks on the x and y axes\n",
    "ax1.get_xaxis().set_ticks([])\n",
    "ax1.get_yaxis().set_ticks([])\n",
    "# stronger linewidth on frame\n",
    "[i.set_linewidth(2.0) for i in ax1.spines.values()]\n",
    "# adjust subplot within figure\n",
    "fig.subplots_adjust(left=0.02,right=0.98,bottom=0.05,top=0.98)\n",
    "plt.show()"
   ]
  },
  {
   "cell_type": "code",
   "execution_count": null,
   "metadata": {},
   "outputs": [],
   "source": [
    "# total amplitude difference for all constituents\n",
    "diff = np.zeros_like(hz30)\n",
    "# for each constituent\n",
    "for i,c in enumerate(constituents):\n",
    "    # if reading a global solution with localized solutions\n",
    "    z0,zlocal = pyTMD.read_tide_model.read_atlas_elevation(model.model_file,i,c)\n",
    "    xi,yi,z = pyTMD.read_tide_model.combine_atlas_model(x0,y0,z0,pmask,zlocal,VARIABLE='z')\n",
    "    # resample global solution to 2 arc-minute solution\n",
    "    x30,y30,z30 = pyTMD.read_tide_model.interpolate_atlas_model(x0,y0,z0)\n",
    "    # add to total amplitude difference\n",
    "    diff += (z30.real - z.real)**2 + (z30.imag - z.imag)**2"
   ]
  },
  {
   "cell_type": "code",
   "execution_count": null,
   "metadata": {},
   "outputs": [],
   "source": [
    "# plot the difference between ATLAS tidal amplitudes\n",
    "fig,ax1 = plt.subplots(num=1, figsize=(8.25,5.25), dpi=200)\n",
    "ax1.imshow(np.sqrt(diff), interpolation='nearest',\n",
    "    extent=(xi.min(),xi.max(),yi.min(),yi.max()),\n",
    "    vmin=0, vmax=0.5, origin='lower', cmap='Reds')\n",
    "# no ticks on the x and y axes\n",
    "ax1.get_xaxis().set_ticks([])\n",
    "ax1.get_yaxis().set_ticks([])\n",
    "# stronger linewidth on frame\n",
    "[i.set_linewidth(2.0) for i in ax1.spines.values()]\n",
    "# adjust subplot within figure\n",
    "fig.subplots_adjust(left=0.02,right=0.98,bottom=0.05,top=0.98)\n",
    "plt.show()"
   ]
  }
 ],
 "metadata": {
  "interpreter": {
   "hash": "31f2aee4e71d21fbe5cf8b01ff0e069b9275f58929596ceb00d14d90e3e16cd6"
  },
  "kernelspec": {
   "display_name": "Python 3",
   "language": "python",
   "name": "python3"
  },
  "language_info": {
   "codemirror_mode": {
    "name": "ipython",
    "version": 3
   },
   "file_extension": ".py",
   "mimetype": "text/x-python",
   "name": "python",
   "nbconvert_exporter": "python",
   "pygments_lexer": "ipython3",
   "version": "3.8.10"
  }
 },
 "nbformat": 4,
 "nbformat_minor": 4
}
