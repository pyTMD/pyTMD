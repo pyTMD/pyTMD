{
 "cells": [
  {
   "cell_type": "markdown",
   "metadata": {},
   "source": [
    "Compare Tide Forecasts\n",
    "======================\n",
    "\n",
    "Compare the daily tidal displacements for a given location with station data\n",
    "\n",
    "OTIS format tidal solutions provided by Ohio State University and ESR  \n",
    "- http://volkov.oce.orst.edu/tides/region.html  \n",
    "- https://www.esr.org/research/polar-tide-models/list-of-polar-tide-models/\n",
    "- ftp://ftp.esr.org/pub/datasets/tmd/  \n",
    "\n",
    "Global Tide Model (GOT) solutions provided by Richard Ray at GSFC  \n",
    "\n",
    "Finite Element Solution (FES) provided by AVISO  \n",
    "- https://www.aviso.altimetry.fr/en/data/products/auxiliary-products/global-tide-fes.html\n",
    "\n",
    "#### Python Dependencies\n",
    " - [numpy: Scientific Computing Tools For Python](https://www.numpy.org)  \n",
    " - [scipy: Scientific Tools for Python](https://www.scipy.org/)  \n",
    " - [pyproj: Python interface to PROJ library](https://pypi.org/project/pyproj/)  \n",
    " - [netCDF4: Python interface to the netCDF C library](https://unidata.github.io/netcdf4-python/)  \n",
    " - [matplotlib: Python 2D plotting library](https://matplotlib.org/)  \n",
    "\n",
    "#### Program Dependencies\n",
    "\n",
    "- `calc_astrol_longitudes.py`: computes the basic astronomical mean longitudes  \n",
    "- `calc_delta_time.py`: calculates difference between universal and dynamic time  \n",
    "- `convert_ll_xy.py`: convert lat/lon points to and from projected coordinates  \n",
    "- `load_constituent.py`: loads parameters for a given tidal constituent  \n",
    "- `load_nodal_corrections.py`: load the nodal corrections for tidal constituents  \n",
    "- `infer_minor_corrections.py`: return corrections for minor constituents  \n",
    "- `model.py`: retrieves tide model parameters for named tide models  \n",
    "- `read_tide_model.py`: extract tidal harmonic constants from OTIS tide models  \n",
    "- `read_netcdf_model.py`: extract tidal harmonic constants from netcdf models  \n",
    "- `read_GOT_model.py`: extract tidal harmonic constants from GSFC GOT models  \n",
    "- `read_FES_model.py`: extract tidal harmonic constants from FES tide models  \n",
    "- `predict_tidal_ts.py`: predict tidal time series at a location using harmonic constants  \n",
    "\n",
    "This notebook uses Jupyter widgets to set parameters for calculating the tidal maps.  "
   ]
  },
  {
   "cell_type": "markdown",
   "metadata": {},
   "source": [
    "#### Load modules"
   ]
  },
  {
   "cell_type": "code",
   "execution_count": 1,
   "metadata": {},
   "outputs": [],
   "source": [
    "from __future__ import print_function\n",
    "\n",
    "import os\n",
    "import pandas\n",
    "import datetime\n",
    "import numpy as np\n",
    "import matplotlib.pyplot as plt\n",
    "import ipywidgets as widgets\n",
    "import IPython.display\n",
    "import urllib.request\n",
    "\n",
    "import pyTMD.time\n",
    "import pyTMD.model\n",
    "import pyTMD.tools\n",
    "from pyTMD.calc_delta_time import calc_delta_time\n",
    "from pyTMD.infer_minor_corrections import infer_minor_corrections\n",
    "from pyTMD.predict_tidal_ts import predict_tidal_ts\n",
    "from pyTMD.read_tide_model import extract_tidal_constants\n",
    "from pyTMD.read_netcdf_model import extract_netcdf_constants\n",
    "from pyTMD.read_GOT_model import extract_GOT_constants\n",
    "from pyTMD.read_FES_model import extract_FES_constants\n",
    "# autoreload\n",
    "%load_ext autoreload\n",
    "%autoreload 2"
   ]
  },
  {
   "cell_type": "code",
   "execution_count": 2,
   "metadata": {},
   "outputs": [
    {
     "data": {
      "application/vnd.jupyter.widget-view+json": {
       "model_id": "e5816412fc054243ba1140745ff765de",
       "version_major": 2,
       "version_minor": 0
      },
      "text/plain": [
       "VBox(children=(Text(value='~/data.dir/tide_models', description='Directory:'), Dropdown(description='Model:', …"
      ]
     },
     "metadata": {},
     "output_type": "display_data"
    }
   ],
   "source": [
    "# available model list\n",
    "model_list = sorted(pyTMD.model.ocean_elevation())\n",
    "# display widgets for setting directory and model\n",
    "TMDwidgets = pyTMD.tools.widgets()\n",
    "TMDwidgets.directory.value = os.path.join('~','data.dir','tide_models')\n",
    "TMDwidgets.model.options = model_list\n",
    "TMDwidgets.model.value = 'TPXO8-atlas'\n",
    "TMDwidgets.compress.value = False\n",
    "widgets.VBox([\n",
    "    TMDwidgets.directory,\n",
    "    TMDwidgets.model,\n",
    "    TMDwidgets.atlas,\n",
    "    TMDwidgets.compress\n",
    "])"
   ]
  },
  {
   "cell_type": "markdown",
   "metadata": {},
   "source": [
    "### Get tide gauge data"
   ]
  },
  {
   "cell_type": "code",
   "execution_count": 3,
   "metadata": {},
   "outputs": [],
   "source": [
    "# Port Kembla\n",
    "# url = 'http://www.bom.gov.au/ntc/IDO71003/IDO71003_2022.csv'\n",
    "# LAT,LON = (-34.47375,150.911861)\n",
    "\n",
    "# # Townsville\n",
    "# url = 'http://www.bom.gov.au/ntc/IDO71001/IDO71001_2022.csv'\n",
    "# LAT,LON = (-19.2774,147.0586)\n",
    "\n",
    "# # Port Stanvac\n",
    "# url = 'http://www.bom.gov.au/ntc/IDO71009/IDO71009_2010.csv'\n",
    "# LAT,LON = (-35.1085,138.4671)\n",
    "\n",
    "# # Spring Bay\n",
    "# url = 'http://www.bom.gov.au/ntc/IDO71007/IDO71007_2022.csv'\n",
    "# LAT,LON = (-42.5464,147.9308)\n",
    "\n",
    "# Stony Point\n",
    "url = 'http://www.bom.gov.au/ntc/IDO71004/IDO71004_2022.csv'\n",
    "LAT,LON = (-38.3722,145.2247)"
   ]
  },
  {
   "cell_type": "code",
   "execution_count": 4,
   "metadata": {},
   "outputs": [],
   "source": [
    "headers = {'User-Agent': 'Mozilla/5.0 (X11; Linux x86_64) AppleWebKit/537.11 (KHTML, like Gecko) Chrome/23.0.1271.64 Safari/537.11',\n",
    "       'Accept': 'text/html,application/xhtml+xml,application/xml;q=0.9,*/*;q=0.8',\n",
    "       'Accept-Charset': 'ISO-8859-1,utf-8;q=0.7,*;q=0.3',\n",
    "       'Accept-Encoding': 'none',\n",
    "       'Accept-Language': 'en-US,en;q=0.8',\n",
    "       'Connection': 'keep-alive'}\n",
    "request = urllib.request.Request(url, headers=headers)\n",
    "f_in = urllib.request.urlopen(request, timeout=20)\n",
    "gauge = pandas.read_csv(f_in)\n",
    "gauge = gauge[gauge['Sea Level'] != -9999]"
   ]
  },
  {
   "cell_type": "code",
   "execution_count": 5,
   "metadata": {},
   "outputs": [],
   "source": [
    "# get model parameters\n",
    "model = pyTMD.model(TMDwidgets.directory.value,\n",
    "    format=TMDwidgets.atlas.value,\n",
    "    compressed=TMDwidgets.compress.value\n",
    "   ).elevation(TMDwidgets.model.value)\n",
    "# model.format = 'OTIS'\n",
    "\n",
    "# convert from calendar date to days relative to Jan 1, 1992 (48622 MJD)\n",
    "utc_time = gauge[' Date & UTC Time'].astype(np.datetime64)\n",
    "tide_time = pyTMD.time.convert_datetime(utc_time,\n",
    "    epoch=(1992,1,1,0,0,0))/86400.0\n",
    "hours = np.arange(len(tide_time))\n",
    "# delta time (TT - UT1) file\n",
    "delta_file = pyTMD.utilities.get_data_path(['data','merged_deltat.data'])\n",
    "\n",
    "# read tidal constants and interpolate to station points\n",
    "if model.format in ('OTIS','ATLAS'):\n",
    "    amp,ph,D,c = extract_tidal_constants(np.atleast_1d(LON),\n",
    "        np.atleast_1d(LAT), model.grid_file, model.model_file,\n",
    "        model.projection, TYPE=model.type, METHOD='spline',\n",
    "        EXTRAPOLATE=True, GRID=model.format)\n",
    "    DELTAT = np.zeros_like(tide_time)\n",
    "elif (model.format == 'netcdf'):\n",
    "    amp,ph,D,c = extract_netcdf_constants(np.atleast_1d(LON),\n",
    "        np.atleast_1d(LAT), model.grid_file, model.model_file,\n",
    "        TYPE=model.type, METHOD='spline', EXTRAPOLATE=True,\n",
    "        SCALE=model.scale, GZIP=model.compressed)\n",
    "    DELTAT = np.zeros_like(tide_time)\n",
    "elif (model.format == 'GOT'):\n",
    "    amp,ph,c = extract_GOT_constants(np.atleast_1d(LON),\n",
    "        np.atleast_1d(LAT), model.model_file, METHOD='spline',\n",
    "        EXTRAPOLATE=True, SCALE=model.scale,\n",
    "        GZIP=model.compressed)\n",
    "    # interpolate delta times from calendar dates to tide time\n",
    "    DELTAT = calc_delta_time(delta_file, tide_time)\n",
    "elif (model.format == 'FES'):\n",
    "    amp,ph = extract_FES_constants(np.atleast_1d(LON),\n",
    "        np.atleast_1d(LAT), model.model_file, TYPE=model.type,\n",
    "        VERSION=model.version, METHOD='spline', EXTRAPOLATE=True,\n",
    "        SCALE=model.scale, GZIP=model.compressed)\n",
    "    c = model.constituents\n",
    "    # interpolate delta times from calendar dates to tide time\n",
    "    DELTAT = calc_delta_time(delta_file, tide_time)\n",
    "\n",
    "# calculate complex phase in radians for Euler's\n",
    "cph = -1j*ph*np.pi/180.0\n",
    "# calculate constituent oscillation\n",
    "hc = amp*np.exp(cph)\n",
    "\n",
    "# convert time from MJD to days relative to Jan 1, 1992 (48622 MJD)\n",
    "# predict tidal elevations at time 1 and infer minor corrections\n",
    "TIDE = predict_tidal_ts(tide_time, hc, c,\n",
    "    DELTAT=DELTAT, CORRECTIONS=model.format)\n",
    "MINOR = infer_minor_corrections(tide_time, hc, c,\n",
    "    DELTAT=DELTAT, CORRECTIONS=model.format)\n",
    "TIDE.data[:] += MINOR.data[:]"
   ]
  },
  {
   "cell_type": "code",
   "execution_count": null,
   "metadata": {},
   "outputs": [],
   "source": [
    "%matplotlib widget\n",
    "# create plot with tidal displacements, high and low tides and dates\n",
    "fig,ax1 = plt.subplots(num=1)\n",
    "xmax = np.ceil(hours[-1]).astype('i')\n",
    "ax1.plot(hours,TIDE.data+np.mean(gauge['Sea Level']),'k')\n",
    "gauge.plot(y='Sea Level',ax=ax1)\n",
    "for h in range(24,xmax,24):\n",
    "    ax1.axvline(h,color='gray',lw=0.5,ls='dashed',dashes=(11,5))\n",
    "ax1.set_xlim(0,xmax)\n",
    "ax1.set_ylabel('{0} Tidal Displacement [m]'.format(model.name))\n",
    "args = (utc_time[0].year,utc_time[0].month,utc_time[0].day)\n",
    "ax1.set_xlabel('Time from {0:4d}-{1:02d}-{2:02d} UTC [Hours]'.format(*args))\n",
    "ax1.set_title(u'{0:0.6f}\\u00b0N {1:0.6f}\\u00b0W'.format(LAT,LON))\n",
    "fig.subplots_adjust(left=0.10,right=0.98,bottom=0.10,top=0.95)\n",
    "plt.show()"
   ]
  },
  {
   "cell_type": "code",
   "execution_count": null,
   "metadata": {},
   "outputs": [],
   "source": [
    "fig,ax2 = plt.subplots(num=2,figsize=(6,6))\n",
    "ax2.plot(gauge['Sea Level'].values,TIDE.data,'.')\n",
    "ax2.set_aspect('equal', adjustable='box')\n",
    "plt.show()"
   ]
  },
  {
   "cell_type": "code",
   "execution_count": null,
   "metadata": {},
   "outputs": [],
   "source": [
    "plt.close('all')"
   ]
  },
  {
   "cell_type": "code",
   "execution_count": null,
   "metadata": {},
   "outputs": [],
   "source": []
  }
 ],
 "metadata": {
  "interpreter": {
   "hash": "31f2aee4e71d21fbe5cf8b01ff0e069b9275f58929596ceb00d14d90e3e16cd6"
  },
  "kernelspec": {
   "display_name": "Python 3",
   "language": "python",
   "name": "python3"
  },
  "language_info": {
   "codemirror_mode": {
    "name": "ipython",
    "version": 3
   },
   "file_extension": ".py",
   "mimetype": "text/x-python",
   "name": "python",
   "nbconvert_exporter": "python",
   "pygments_lexer": "ipython3",
   "version": "3.8.10"
  }
 },
 "nbformat": 4,
 "nbformat_minor": 4
}
