{
 "cells": [
  {
   "attachments": {},
   "cell_type": "markdown",
   "metadata": {},
   "source": [
    "Gap Fill Tide Map\n",
    "=================\n",
    "\n",
    "This ({nb-download}`notebook <Gap-Fill-Tide-Map.ipynb>`) demonstrates using the `inpaint` interpolation function to gap fill a tide model. This is useful for creating tide maps that can be easily interpolated using out-of-the-box utilities (such as `xarray` interpolation routines). However they require use of a land-sea mask to limit the interpolation to valid regions.\n",
    "\n",
    "```{important}\n",
    "*Need to download tide model prior to running this notebook.*  \n",
    "```\n",
    "\n",
    "OTIS format tidal solutions provided by Oregon State University and ESR  \n",
    "- [http://volkov.oce.orst.edu/tides/region.html](http://volkov.oce.orst.edu/tides/region.html) \n",
    "- [https://www.esr.org/research/polar-tide-models/list-of-polar-tide-models/](https://www.esr.org/research/polar-tide-models/list-of-polar-tide-models/)\n",
    "- [ftp://ftp.esr.org/pub/datasets/tmd/](ftp://ftp.esr.org/pub/datasets/tmd/)  \n",
    "\n",
    "Global Tide Model (GOT) solutions provided by Richard Ray at GSFC  \n",
    "- [https://earth.gsfc.nasa.gov/geo/data/ocean-tide-models](https://earth.gsfc.nasa.gov/geo/data/ocean-tide-models)\n",
    "\n",
    "Finite Element Solution (FES) provided by AVISO  \n",
    "- [https://www.aviso.altimetry.fr/en/data/products/auxiliary-products/global-tide-fes.html](https://www.aviso.altimetry.fr/en/data/products/auxiliary-products/global-tide-fes.html\n",
    ")\n",
    "\n",
    "## Python Dependencies\n",
    " - [numpy: Scientific Computing Tools For Python](https://www.numpy.org)  \n",
    " - [scipy: Scientific Tools for Python](https://www.scipy.org/)  \n",
    " - [pyproj: Python interface to PROJ library](https://pypi.org/project/pyproj/)  \n",
    " - [netCDF4: Python interface to the netCDF C library](https://unidata.github.io/netcdf4-python/)  \n",
    " - [matplotlib: Python 2D plotting library](https://matplotlib.org/)  \n",
    "\n",
    "## Program Dependencies\n",
    "\n",
    "- `crs.py`: Coordinate Reference System (CRS) routines\n",
    "- `interpolate.py`: interpolation routines for spatial data\n",
    "- `io.model.py`: retrieves tide model parameters for named tide models\n",
    "- `io.OTIS.py`: extract tidal harmonic constants from OTIS tide models  \n",
    "- `io.ATLAS.py`: extract tidal harmonic constants from netcdf models  \n",
    "- `io.GOT.py`: extract tidal harmonic constants from GSFC GOT models  \n",
    "- `io.FES.py`: extract tidal harmonic constants from FES tide models  \n",
    "\n",
    "```{note}\n",
    "This notebook uses Jupyter widgets to set parameters for calculating the tidal maps.  \n",
    "```"
   ]
  },
  {
   "cell_type": "markdown",
   "metadata": {},
   "source": [
    "## Load modules"
   ]
  },
  {
   "cell_type": "code",
   "execution_count": null,
   "metadata": {},
   "outputs": [],
   "source": [
    "import pyTMD.io\n",
    "import pyTMD.tools\n",
    "import numpy as np\n",
    "import cartopy.crs as ccrs\n",
    "import matplotlib.pyplot as plt\n",
    "import matplotlib.colors as mcolors"
   ]
  },
  {
   "cell_type": "markdown",
   "metadata": {},
   "source": [
    "## Set parameters for program\n",
    "\n",
    "- Model directory  \n",
    "- Tide model  \n",
    "- Constituent to read"
   ]
  },
  {
   "cell_type": "code",
   "execution_count": null,
   "metadata": {},
   "outputs": [],
   "source": [
    "# available model list\n",
    "model_list = sorted(pyTMD.io.model.ocean_elevation())\n",
    "# display widgets for setting directory and model\n",
    "TMDwidgets = pyTMD.tools.widgets()\n",
    "TMDwidgets.model.options = model_list\n",
    "TMDwidgets.model.value = 'GOT4.10_nc'\n",
    "TMDwidgets.constituents.value = 'm2'\n",
    "TMDwidgets.VBox([\n",
    "    TMDwidgets.directory,\n",
    "    TMDwidgets.model,\n",
    "    TMDwidgets.compress,\n",
    "    TMDwidgets.constituents\n",
    "])"
   ]
  },
  {
   "cell_type": "markdown",
   "metadata": {},
   "source": [
    "## Read a constituent from a tide model"
   ]
  },
  {
   "cell_type": "code",
   "execution_count": null,
   "metadata": {},
   "outputs": [],
   "source": [
    "# get model parameters\n",
    "model = pyTMD.io.model(TMDwidgets.directory.value,\n",
    "    compressed=TMDwidgets.compress.value\n",
    "   ).elevation(TMDwidgets.model.value)\n",
    "c = TMDwidgets.constituents.value\n",
    "# read original model with no gap filling\n",
    "original = model.read_constants(constituents=[c])\n",
    "# use inpaint to fill gaps in the model\n",
    "gap_filled = model.read_constants(constituents=[c], gap_fill=True, N=100)"
   ]
  },
  {
   "cell_type": "markdown",
   "metadata": {},
   "source": [
    "## Plot original and interpolated constituent"
   ]
  },
  {
   "cell_type": "code",
   "execution_count": null,
   "metadata": {},
   "outputs": [],
   "source": [
    "fig, ax = plt.subplots(nrows=2,ncols=2,sharex=True,sharey=True,figsize=(10,6),\n",
    "    subplot_kw=dict(projection=ccrs.PlateCarree()))\n",
    "# get image extent\n",
    "xmin, xmax = (original.coords.x.min(),original.coords.x.max())\n",
    "ymin, ymax = (original.coords.y.min(),original.coords.y.max())\n",
    "extent = (xmin, xmax, ymin, ymax)\n",
    "# plot images\n",
    "norm = mcolors.CenteredNorm(vcenter=0.0)\n",
    "ax[0,0].imshow(original[c].real,extent=extent,origin='lower',norm=norm,cmap='coolwarm')\n",
    "ax[0,1].imshow(original[c].imag,extent=extent,origin='lower',norm=norm,cmap='coolwarm')\n",
    "ax[1,0].imshow(gap_filled[c].real,extent=extent,origin='lower',norm=norm,cmap='coolwarm')\n",
    "ax[1,1].imshow(gap_filled[c].imag,extent=extent,origin='lower',norm=norm,cmap='coolwarm')\n",
    "# adjust plot details\n",
    "for ax1 in ax.flatten():\n",
    "    ax1.coastlines()\n",
    "    # no ticks on the x and y axes\n",
    "    ax1.get_xaxis().set_ticks([])\n",
    "    ax1.get_yaxis().set_ticks([])\n",
    "    # stronger linewidth on frame\n",
    "    [i.set_linewidth(2.0) for i in ax1.spines.values()]\n",
    "# adjust subplots and show\n",
    "fig.subplots_adjust(left=0.01, right=0.99, bottom=0.10, top=0.95, hspace=0.025, wspace=0.05)\n",
    "plt.show()"
   ]
  },
  {
   "cell_type": "code",
   "execution_count": null,
   "metadata": {},
   "outputs": [],
   "source": []
  }
 ],
 "metadata": {
  "kernelspec": {
   "display_name": "py13",
   "language": "python",
   "name": "python3"
  },
  "language_info": {
   "codemirror_mode": {
    "name": "ipython",
    "version": 3
   },
   "file_extension": ".py",
   "mimetype": "text/x-python",
   "name": "python",
   "nbconvert_exporter": "python",
   "pygments_lexer": "ipython3",
   "version": "3.13.0"
  }
 },
 "nbformat": 4,
 "nbformat_minor": 4
}
