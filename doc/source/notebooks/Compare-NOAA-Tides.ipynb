{
 "cells": [
  {
   "cell_type": "markdown",
   "metadata": {},
   "source": [
    "Compare NOAA Tides\n",
    "================== \n",
    "\n",
    "This ({nb-download}`notebook <Compare-NOAA-Tides.ipynb>`) downloads and plots measurements and forecasts from [NOAA Tides and Currents](https://tidesandcurrents.noaa.gov/). Predictions use the harmonic constituents provided by the National Oceanic and Atmospheric Administration (NOAA) for the selected station.\n",
    "\n",
    "## Python Dependencies\n",
    "\n",
    " - [numpy: Scientific Computing Tools For Python](https://www.numpy.org)  \n",
    " - [scipy: Scientific Tools for Python](https://www.scipy.org/)  \n",
    " - [matplotlib: Python 2D plotting library](https://matplotlib.org/)  \n",
    " - [pandas: Python Data Analysis Library](https://pandas.pydata.org/)\n",
    "\n",
    "## Program Dependencies\n",
    "\n",
    "- `arguments.py`: load the nodal corrections for tidal constituents  \n",
    "- `astro.py`: computes the basic astronomical mean longitudes  \n",
    "- `io.constituents.py`: basic tide model constituent class  \n",
    "- `predict.py`: predict tidal values using harmonic constants  \n",
    "- `time.py`: utilities for calculating time operations\n",
    "\n",
    "This notebook uses Jupyter widgets to set parameters for calculating the tidal time series.  "
   ]
  },
  {
   "cell_type": "code",
   "execution_count": null,
   "metadata": {},
   "outputs": [],
   "source": [
    "import pyTMD\n",
    "import pandas\n",
    "import logging\n",
    "import timescale\n",
    "import traceback\n",
    "import ipywidgets\n",
    "import numpy as np\n",
    "import matplotlib.dates as mdates\n",
    "import matplotlib.pyplot as plt\n",
    "# create logger\n",
    "logging.basicConfig(level=logging.INFO)"
   ]
  },
  {
   "cell_type": "markdown",
   "metadata": {},
   "source": [
    "## Functions for querying NOAA webservices"
   ]
  },
  {
   "cell_type": "code",
   "execution_count": null,
   "metadata": {},
   "outputs": [],
   "source": [
    "def build_query(api, **kwargs):\n",
    "    # NOAA webservices hosts\n",
    "    HOST = 'https://tidesandcurrents.noaa.gov/axis/webservices'\n",
    "    OPENDAP = 'https://opendap.co-ops.nos.noaa.gov/axis/webservices'\n",
    "    # NOAA webservices query arguments\n",
    "    arguments = '?format=xml'\n",
    "    for key, value in kwargs.items():\n",
    "        arguments += f'&{key}={value}'\n",
    "    arguments += '&Submit=Submit'\n",
    "    # NOAA API query url\n",
    "    url = f'{HOST}/{api}/response.jsp{arguments}'\n",
    "    # lxml namespaces for parsing\n",
    "    namespaces = {}\n",
    "    namespaces['wsdl'] = f'{OPENDAP}/{api}/wsdl'\n",
    "    return (url, namespaces)\n",
    "\n",
    "def from_xml(url, **kwargs):\n",
    "    # query the NOAA webservices API\n",
    "    try:\n",
    "        logging.debug(url)\n",
    "        df = pandas.read_xml(url, **kwargs)\n",
    "    except ValueError:\n",
    "        logging.error(traceback.format_exc())\n",
    "    # return the dataframe\n",
    "    else:\n",
    "        return df"
   ]
  },
  {
   "cell_type": "markdown",
   "metadata": {},
   "source": [
    "## Query NOAA webservices for list of tide stations"
   ]
  },
  {
   "cell_type": "code",
   "execution_count": null,
   "metadata": {},
   "outputs": [],
   "source": [
    "xpath = '//wsdl:station'\n",
    "url, namespaces = build_query('tidepredictionstations')\n",
    "stations = from_xml(url, xpath=xpath, namespaces=namespaces).set_index('name')\n",
    "stations = stations.sort_index().drop(columns=['metadata'])"
   ]
  },
  {
   "cell_type": "markdown",
   "metadata": {},
   "source": [
    "## Select NOAA station and dates for prediction"
   ]
  },
  {
   "cell_type": "code",
   "execution_count": null,
   "metadata": {},
   "outputs": [],
   "source": [
    "# display widgets\n",
    "TMDwidgets = pyTMD.tools.widgets()\n",
    "# create dropdown with all tide prediction station data\n",
    "TMDwidgets.stations = ipywidgets.Dropdown(\n",
    "    options=stations.index,\n",
    "    value='La Jolla (Scripps Institution Wharf)',\n",
    "    description='Tide Stations:',\n",
    "    disabled=False,\n",
    "    style=TMDwidgets.style,\n",
    ")\n",
    "# create date pickers for start and end dates\n",
    "end_date = pandas.Timestamp.now().floor(freq='d')\n",
    "start_date = end_date - pandas.Timedelta('2 day')\n",
    "TMDwidgets.start_date = ipywidgets.DatePicker(\n",
    "    description='Start Date:',\n",
    "    value=start_date,\n",
    "    disabled=False,\n",
    "    style=TMDwidgets.style,\n",
    ")\n",
    "TMDwidgets.end_date = ipywidgets.DatePicker(\n",
    "    description='End Date:',\n",
    "    value=end_date,\n",
    "    disabled=False,\n",
    "    style=TMDwidgets.style,\n",
    ")\n",
    "# display widgets\n",
    "TMDwidgets.VBox([\n",
    "    TMDwidgets.stations,\n",
    "    TMDwidgets.start_date,\n",
    "    TMDwidgets.end_date\n",
    "])"
   ]
  },
  {
   "cell_type": "markdown",
   "metadata": {},
   "source": [
    "## Predict tidal time series"
   ]
  },
  {
   "cell_type": "code",
   "execution_count": null,
   "metadata": {},
   "outputs": [],
   "source": [
    "# get station name and indicator\n",
    "station_row = stations.iloc[TMDwidgets.stations.index]\n",
    "station_name = station_row.name\n",
    "station_id = station_row.ID\n",
    "# set query parameters\n",
    "xpath = '//wsdl:item'\n",
    "unit = 0\n",
    "timeZone = 0\n",
    "startdate = TMDwidgets.start_date.value.strftime('%Y%m%d')\n",
    "enddate = TMDwidgets.end_date.value.strftime('%Y%m%d')\n",
    "datum = 'MSL'\n",
    "\n",
    "# get harmonic constituents for station\n",
    "url, namespaces = build_query('harmonicconstituents',\n",
    "    stationId=station_id, unit=unit, timeZone=timeZone)\n",
    "hcons = from_xml(url, xpath=xpath, namespaces=namespaces)\n",
    "\n",
    "# get water levels for station and date range\n",
    "url, namespaces = build_query('waterlevelrawsixmin',\n",
    "    stationId=station_id, unit=unit, timeZone=timeZone,\n",
    "    beginDate=startdate, endDate=enddate, datum=datum)\n",
    "wlevel = from_xml(url, xpath=xpath, namespaces=namespaces,\n",
    "    parse_dates=['timeStamp'])\n",
    "\n",
    "# parse harmonic constituents\n",
    "c = [pyTMD.io.constituents.parse(row['name']) for i, row in hcons.iterrows()]\n",
    "# calculate complex phase in radians for Euler's\n",
    "cph = -1j*hcons.phase*np.pi/180.0\n",
    "# calculate constituent oscillation\n",
    "hc = hcons.amplitude*np.exp(cph)\n",
    "\n",
    "# predict tides at water level timestamps\n",
    "ts = timescale.from_datetime(wlevel.timeStamp)\n",
    "TIDE = pyTMD.predict.time_series(ts.tide, hc.values, c,\n",
    "    deltat=ts.tt_ut1, corrections='GOT')\n",
    "# infer minor tidal constituents\n",
    "TIDE += pyTMD.predict.infer_minor(ts.tide, hc.values, c,\n",
    "    deltat=ts.tt_ut1, corrections='GOT')"
   ]
  },
  {
   "cell_type": "markdown",
   "metadata": {},
   "source": [
    "## Compare measured tide values with predictions"
   ]
  },
  {
   "cell_type": "code",
   "execution_count": null,
   "metadata": {},
   "outputs": [],
   "source": [
    "fig, ax = plt.subplots(num=1)\n",
    "ax.plot(wlevel.timeStamp, wlevel.WL, color='mediumseagreen', label='MSL')\n",
    "ax.fill_between(wlevel.timeStamp, wlevel.WL-wlevel.sigma,\n",
    "    y2=wlevel.WL+wlevel.sigma, zorder=1,\n",
    "    color='mediumseagreen', alpha=0.35)\n",
    "ax.plot(wlevel.timeStamp, TIDE, color='darkorchid', label='Tides')\n",
    "ax.grid(linestyle='-', axis='x')\n",
    "ax.set_title(station_name)\n",
    "ax.set_ylabel('Water Level Height [m]')\n",
    "lgd = ax.legend(frameon=True)\n",
    "lgd.get_frame().set_boxstyle('square,pad=0.0')\n",
    "lgd.get_frame().set_edgecolor(\"white\")\n",
    "lgd.get_frame().set_alpha(1.0)\n",
    "for line in lgd.get_lines():\n",
    "    line.set_linewidth(6)\n",
    "date_formatter = mdates.DateFormatter(\"%Y-%m-%d %H:%M\")\n",
    "ax.xaxis.set_major_formatter(date_formatter)\n",
    "fig.autofmt_xdate()\n",
    "plt.show()"
   ]
  }
 ],
 "metadata": {
  "kernelspec": {
   "display_name": "py13",
   "language": "python",
   "name": "python3"
  },
  "language_info": {
   "codemirror_mode": {
    "name": "ipython",
    "version": 3
   },
   "file_extension": ".py",
   "mimetype": "text/x-python",
   "name": "python",
   "nbconvert_exporter": "python",
   "pygments_lexer": "ipython3",
   "version": "3.13.0"
  }
 },
 "nbformat": 4,
 "nbformat_minor": 4
}
