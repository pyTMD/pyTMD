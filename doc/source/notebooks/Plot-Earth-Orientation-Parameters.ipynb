{
 "cells": [
  {
   "cell_type": "markdown",
   "metadata": {},
   "source": [
    "Plot Earth Orientation Parameters\n",
    "=================================\n",
    "\n",
    "This ({nb-download}`notebook <Plot-Earth-Orientation-Parameters.ipynb>`) demonstrates plotting the time series of [Earth Orientation Parameters (EOPs)](https://crf.usno.navy.mil/global-solutions-eop) as a function of time. Pole tides are driven by variations in Earth's rotation axis (e.g. Chandler wobble) with respect to the location of the mean (or secular) pole. This polar motion is forced primarily by fluctuations in the angular momentum of the ocean and atmosphere.\n",
    "\n",
    "## Python Dependencies\n",
    " - [numpy: Scientific Computing Tools For Python](https://www.numpy.org) \n",
    " - [scipy: Scientific Tools for Python](https://www.scipy.org/)   \n",
    " - [matplotlib: Python 2D plotting library](http://matplotlib.org/)  \n",
    " - [timescale: Python tools for time and astronomical calculations](https://pypi.org/project/timescale/)"
   ]
  },
  {
   "cell_type": "code",
   "execution_count": null,
   "metadata": {},
   "outputs": [],
   "source": [
    "import datetime\n",
    "import timescale\n",
    "import numpy as np\n",
    "import matplotlib.pyplot as plt\n",
    "import matplotlib.offsetbox as offsetbox"
   ]
  },
  {
   "cell_type": "markdown",
   "metadata": {},
   "source": [
    "## Create time series from beginning of EOP dataset"
   ]
  },
  {
   "cell_type": "code",
   "execution_count": null,
   "metadata": {},
   "outputs": [],
   "source": [
    "start_date = np.array('1973-01-01', dtype=f'datetime64[D]')\n",
    "end_date = np.array(datetime.datetime.now(), dtype=f'datetime64[D]')\n",
    "ts = timescale.from_range(start_date, end_date)"
   ]
  },
  {
   "cell_type": "markdown",
   "metadata": {},
   "source": [
    "## Calculate IERS Mean/Secular Pole"
   ]
  },
  {
   "cell_type": "code",
   "execution_count": null,
   "metadata": {},
   "outputs": [],
   "source": [
    "# calculate angular coordinates of mean/secular pole at time\n",
    "mpx, mpy, fl = timescale.eop.iers_mean_pole(ts.year, convention='2018')\n",
    "# read and interpolate IERS daily polar motion values\n",
    "px, py = timescale.eop.iers_polar_motion(ts.MJD, k=1, s=0)\n",
    "# calculate differentials from mean/secular pole positions\n",
    "# using the latest definition from IERS Conventions (2010)\n",
    "mx = px - mpx\n",
    "my = -(py - mpy)"
   ]
  },
  {
   "cell_type": "markdown",
   "metadata": {},
   "source": [
    "## Plot EOPs and deviations from Secular Pole"
   ]
  },
  {
   "cell_type": "code",
   "execution_count": null,
   "metadata": {},
   "outputs": [],
   "source": [
    "f1, ax1 = plt.subplots(num=1, ncols=2, figsize=(8, 4.875))\n",
    "# plot pole position\n",
    "sc = ax1[0].scatter(px, py, c=ts.year, cmap='plasma_r', s=0.5)\n",
    "# plot deviation from mean/secular pole\n",
    "sc = ax1[1].scatter(mx, my, c=ts.year, cmap='plasma_r', s=0.5)\n",
    "ax1[1].axhline(0, color='0.4', ls='--', lw=0.5)\n",
    "ax1[1].axvline(0, color='0.4', ls='--', lw=0.5)\n",
    "# add axis labels\n",
    "ax1[0].set_xlabel('X Pole [asec]')\n",
    "ax1[1].set_xlabel('X Pole [asec]')\n",
    "ax1[0].set_ylabel('Y Pole [asec]')\n",
    "labels = ['a)', 'b)']\n",
    "for i, label in enumerate(labels):\n",
    "    ax1[i].tick_params(which='both', direction='in')\n",
    "    at = offsetbox.AnchoredText(label,\n",
    "        loc=2, pad=0.25, borderpad=0.5, frameon=False,\n",
    "        prop=dict(size=14,weight='bold',color='k'))\n",
    "    ax1[i].axes.add_artist(at)\n",
    "# add title\n",
    "ax1[0].set_title('IERS Polar Motion')\n",
    "ax1[1].set_title('IERS Deviation from Secular Pole')\n",
    "# set axis limits\n",
    "ax1[0].set_xlim([-0.35, 0.35])\n",
    "ax1[0].set_ylim([-0.05, 0.65])\n",
    "ax1[1].set_xlim([-0.35, 0.35])\n",
    "ax1[1].set_ylim([-0.35, 0.35])\n",
    "ax1[0].set_aspect('equal')\n",
    "ax1[1].set_aspect('equal')\n",
    "\n",
    "# Add colorbar with a colorbar axis\n",
    "# Add an ax1es at position rect [left, bottom, width, height]\n",
    "cbar_ax = f1.add_axes([0.07, 0.085, 0.925, 0.04])\n",
    "# extend = add extension triangles to upper and lower bounds\n",
    "# options: neither, both, min, max1\n",
    "cbar = f1.colorbar(sc, cax=cbar_ax, extend='neither',\n",
    "    drawedges=False, orientation='horizontal')\n",
    "# rasterized colorbar to remove lines\n",
    "cbar.solids.set_rasterized(True)\n",
    "# Add label to the colorbar\n",
    "cbar.ax.set_title('Time [yr]', rotation=0, y=-1.65, va='top')\n",
    "cbar.ax.xaxis.set_label_coords(1.075, 0.5)\n",
    "# add minor ticks\n",
    "m1 = np.ceil(ts[0].to_calendar().year/2)*2\n",
    "m2 = np.ceil(ts[-1].to_calendar().year/2)*2\n",
    "minor_ticks = np.arange(m1, m2, 2)\n",
    "cbar.set_ticks(minor_ticks, minor=True)\n",
    "# set tick parameters\n",
    "cbar.ax.tick_params(which='both', width=1, length=5, direction='in')\n",
    "\n",
    "# adjust subplot within figure\n",
    "f1.subplots_adjust(left=0.07,right=0.995,bottom=0.15,top=0.995,wspace=0.125)\n",
    "plt.show()"
   ]
  },
  {
   "cell_type": "markdown",
   "metadata": {},
   "source": [
    "## Plot EOP Time Series"
   ]
  },
  {
   "cell_type": "code",
   "execution_count": null,
   "metadata": {},
   "outputs": [],
   "source": [
    "f2, ax2 = plt.subplots(num=2, nrows=3, sharex=True, figsize=(5, 5))\n",
    "ax2[0].plot(ts.year, px, label='IERS')\n",
    "ax2[0].plot(ts.year, mpx, label='Secular')\n",
    "ax2[1].plot(ts.year, py, label='IERS')\n",
    "ax2[1].plot(ts.year, mpy, label='Secular')\n",
    "# calculate TT-UT1 and convert to seconds\n",
    "tt_ut1 = 86400.0*ts.tt_ut1\n",
    "ax2[2].plot(ts.year, tt_ut1)\n",
    "# set axis labels\n",
    "ax2[0].set_ylabel('X Pole [asec]', labelpad=0)\n",
    "ax2[1].set_ylabel('Y Pole [asec]', labelpad=8)\n",
    "ax2[2].set_ylabel('TT-UT1 [s]', labelpad=11)\n",
    "ax2[2].set_xlabel('Time [yr]')\n",
    "labels = ['a)', 'b)', 'c)']\n",
    "for i, label in enumerate(labels):\n",
    "    ax2[i].tick_params(which='both', direction='in')\n",
    "    at = offsetbox.AnchoredText(label,\n",
    "        loc=2, pad=0.0, borderpad=0.5, frameon=False,\n",
    "        prop=dict(size=12,weight='bold',color='k'))\n",
    "    ax2[i].axes.add_artist(at)\n",
    "# add legend\n",
    "lgd = ax2[0].legend(frameon=False, ncols=1, labelspacing=0.1, borderpad=0.1)\n",
    "for line in lgd.get_lines():\n",
    "    line.set_linewidth(6)\n",
    "# set axis limits\n",
    "ax2[0].set_xlim([1973, m2])\n",
    "ax2[2].set_xticks(minor_ticks, minor=True)\n",
    "# adjust subplot within figure\n",
    "f2.subplots_adjust(left=0.105,right=0.99,bottom=0.075,top=0.99,hspace=0.1)\n",
    "plt.show()"
   ]
  }
 ],
 "metadata": {
  "kernelspec": {
   "display_name": "py13",
   "language": "python",
   "name": "python3"
  },
  "language_info": {
   "codemirror_mode": {
    "name": "ipython",
    "version": 3
   },
   "file_extension": ".py",
   "mimetype": "text/x-python",
   "name": "python",
   "nbconvert_exporter": "python",
   "pygments_lexer": "ipython3",
   "version": "3.13.0"
  }
 },
 "nbformat": 4,
 "nbformat_minor": 4
}
