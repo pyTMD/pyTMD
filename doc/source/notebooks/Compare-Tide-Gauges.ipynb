{
 "cells": [
  {
   "cell_type": "markdown",
   "metadata": {},
   "source": [
    "Compare with Tide Gauges\n",
    "========================\n",
    "\n",
    "This ({nb-download}`notebook <Compare-Tide-Gauges.ipynb>`) compares model predictions with tide gauge data provided by the [University of Hawaii Sea Level Center](https://uhslc.soest.hawaii.edu/network/), and computes a local solution from the tide gauge data\n",
    "\n",
    "OTIS format tidal solutions provided by Oregon State University and ESR  \n",
    "- [http://volkov.oce.orst.edu/tides/region.html](http://volkov.oce.orst.edu/tides/region.html) \n",
    "- [https://www.esr.org/research/polar-tide-models/list-of-polar-tide-models/](https://www.esr.org/research/polar-tide-models/list-of-polar-tide-models/)\n",
    "- [ftp://ftp.esr.org/pub/datasets/tmd/](ftp://ftp.esr.org/pub/datasets/tmd/)  \n",
    "\n",
    "Global Tide Model (GOT) solutions provided by Richard Ray at GSFC  \n",
    "- [https://earth.gsfc.nasa.gov/geo/data/ocean-tide-models](https://earth.gsfc.nasa.gov/geo/data/ocean-tide-models)\n",
    "\n",
    "Finite Element Solution (FES) provided by AVISO  \n",
    "- [https://www.aviso.altimetry.fr/en/data/products/auxiliary-products/global-tide-fes.html](https://www.aviso.altimetry.fr/en/data/products/auxiliary-products/global-tide-fes.html)\n",
    "        \n",
    "## Python Dependencies\n",
    " - [numpy: Scientific Computing Tools For Python](https://www.numpy.org)  \n",
    " - [scipy: Scientific Tools for Python](https://www.scipy.org/)  \n",
    " - [pyproj: Python interface to PROJ library](https://pypi.org/project/pyproj/)  \n",
    " - [netCDF4: Python interface to the netCDF C library](https://unidata.github.io/netcdf4-python/)  \n",
    " - [matplotlib: Python 2D plotting library](http://matplotlib.org/)  \n",
    " - [cartopy: Python package designed for geospatial data processing](https://scitools.org.uk/cartopy/docs/latest/)  \n",
    "\n",
    "## Program Dependencies\n",
    "\n",
    "- `crs.py`: Coordinate Reference System (CRS) routines  \n",
    "- `io.model.py`: retrieves tide model parameters for named tide models  \n",
    "- `io.OTIS.py`: extract tidal harmonic constants from OTIS tide models  \n",
    "- `io.ATLAS.py`: extract tidal harmonic constants from ATLAS netcdf models  \n",
    "- `io.GOT.py`: extract tidal harmonic constants from GOT tide models  \n",
    "- `io.FES.py`: extract tidal harmonic constants from FES tide models  \n",
    "- `solve.py`: estimates the harmonic constants for ocean tides\n",
    "- `time.py`: utilities for calculating time operations\n",
    "\n",
    "This notebook uses Jupyter widgets to set parameters for calculating the tidal values.  "
   ]
  },
  {
   "cell_type": "markdown",
   "metadata": {},
   "source": [
    "## Load modules"
   ]
  },
  {
   "cell_type": "code",
   "execution_count": null,
   "metadata": {},
   "outputs": [],
   "source": [
    "from __future__ import print_function\n",
    "\n",
    "import netCDF4\n",
    "import ipywidgets\n",
    "import numpy as np\n",
    "import scipy.signal\n",
    "import IPython.display\n",
    "import cartopy.crs as ccrs\n",
    "import cartopy.feature as cfeature\n",
    "import matplotlib.pyplot as plt\n",
    "\n",
    "# import tide programs\n",
    "import pyTMD.tools\n",
    "import pyTMD.compute\n",
    "import pyTMD.solve\n",
    "import pyTMD.utilities\n",
    "import timescale\n",
    "# autoreload\n",
    "%load_ext autoreload\n",
    "%autoreload 2"
   ]
  },
  {
   "cell_type": "markdown",
   "metadata": {},
   "source": [
    "## Set parameters for program\n",
    "\n",
    "- Model directory  \n",
    "- Tide model  "
   ]
  },
  {
   "cell_type": "code",
   "execution_count": null,
   "metadata": {},
   "outputs": [],
   "source": [
    "# available model list\n",
    "model_list = sorted(pyTMD.io.model.ocean_elevation())\n",
    "# display widgets for setting directory and model\n",
    "TMDwidgets = pyTMD.tools.widgets()\n",
    "TMDwidgets.model.options = model_list\n",
    "TMDwidgets.model.value = 'GOT4.10_nc'\n",
    "TMDwidgets.VBox([\n",
    "    TMDwidgets.directory,\n",
    "    TMDwidgets.model,\n",
    "    TMDwidgets.compress,\n",
    "])"
   ]
  },
  {
   "cell_type": "markdown",
   "metadata": {},
   "source": [
    "## Find Tide Gauge Data"
   ]
  },
  {
   "cell_type": "code",
   "execution_count": null,
   "metadata": {},
   "outputs": [],
   "source": [
    "# remote directory with tide gauge data\n",
    "HOST = 'https://uhslc.soest.hawaii.edu/data/netcdf/rqds/global/hourly/'\n",
    "f = pyTMD.utilities.uhslc_list(HOST, pattern=r'(.*?).nc', sort=True)\n",
    "# create dropdown with all tide gauge data\n",
    "TMDwidgets.gauges = ipywidgets.Dropdown(\n",
    "    options=f,\n",
    "    value=f[0],\n",
    "    description='Tide Gauges:',\n",
    "    disabled=False,\n",
    "    style=TMDwidgets.style,\n",
    ")\n",
    "display(TMDwidgets.gauges)"
   ]
  },
  {
   "cell_type": "markdown",
   "metadata": {},
   "source": [
    "## Download and Read Tide Gauge Data"
   ]
  },
  {
   "cell_type": "code",
   "execution_count": null,
   "metadata": {},
   "outputs": [],
   "source": [
    "# open tide gauge data\n",
    "fid = pyTMD.utilities.from_http([HOST,TMDwidgets.gauges.value])\n",
    "with netCDF4.Dataset(fid.filename, memory=fid.read()) as fileID:\n",
    "    # read time and station name\n",
    "    delta_time = fileID.variables['time'][:].squeeze()\n",
    "    date_string = fileID.variables['time'].units\n",
    "    station_name, = netCDF4.chartostring(fileID.variables['station_name'][:])\n",
    "    print(f'{fid.filename}: {station_name}')\n",
    "    # get station latitude and longitude\n",
    "    lat, = fileID.variables['lat'][:]\n",
    "    lon, = fileID.variables['lon'][:]\n",
    "    # get sea level heights\n",
    "    sea_level = fileID.variables['sea_level'][:].squeeze()\n",
    "# reduce to valid points\n",
    "valid = np.logical_not(sea_level.mask | np.isnan(sea_level))\n",
    "# convert time\n",
    "epoch, to_sec = timescale.time.parse_date_string(date_string)\n",
    "ts = timescale.from_deltatime(delta_time[valid]*to_sec, epoch=epoch)\n",
    "print(f'{ts.min().to_datetime()[0]}')\n",
    "print(f'{ts.max().to_datetime()[0]}')\n",
    "deltat = ts.tt_ut1\n",
    "# remove the mean and convert to meters\n",
    "h = (sea_level.compressed() - sea_level[valid].mean())/1000.0"
   ]
  },
  {
   "cell_type": "code",
   "execution_count": null,
   "metadata": {},
   "outputs": [],
   "source": [
    "%matplotlib widget\n",
    "# check coordinates on tide grid\n",
    "f1 = plt.figure(num=1, clear=True, figsize=(8.25,5.25))\n",
    "ax1 = f1.subplots(subplot_kw=dict(projection=ccrs.PlateCarree()))\n",
    "point, = ax1.plot(lon, lat, 'r*', transform=ccrs.PlateCarree())\n",
    "# add title\n",
    "ax1.set_title(f'{station_name} ({lat:0.2f}\\u00B0N, {lon:0.2f}\\u00B0E)')\n",
    "# add coastlines\n",
    "ax1.coastlines()\n",
    "ax1.add_feature(cfeature.LAND, facecolor='0.85')\n",
    "# axis = equal\n",
    "ax1.set_aspect('equal', adjustable='box')\n",
    "# no ticks on the x and y axes\n",
    "ax1.get_xaxis().set_ticks([])\n",
    "ax1.get_yaxis().set_ticks([])\n",
    "ax1.set_extent([-180, 180, -90, 90])\n",
    "# stronger linewidth on frame\n",
    "ax1.spines['geo'].set_linewidth(2.0)\n",
    "ax1.spines['geo'].set_capstyle('projecting')\n",
    "# adjust subplot within figure\n",
    "f1.tight_layout()\n",
    "plt.show()"
   ]
  },
  {
   "cell_type": "markdown",
   "metadata": {},
   "source": [
    "## Predict tides at measurement times"
   ]
  },
  {
   "cell_type": "code",
   "execution_count": null,
   "metadata": {},
   "outputs": [],
   "source": [
    "# get model parameters\n",
    "model = pyTMD.io.model(verify=False).elevation(TMDwidgets.model.value)\n",
    "model.parse_constituents()\n",
    "# calculate tide elevations\n",
    "tide = pyTMD.compute.tide_elevations(lon, lat, ts.to_datetime(),\n",
    "    DIRECTORY=TMDwidgets.directory.value, TYPE='time series', \n",
    "    MODEL=TMDwidgets.model.value, GZIP=TMDwidgets.compress.value,\n",
    "    EPSG=4326, TIME='datetime', EXTRAPOLATE=True, CUTOFF=20).squeeze()"
   ]
  },
  {
   "cell_type": "markdown",
   "metadata": {},
   "source": [
    "## Adjust global solution for regional data"
   ]
  },
  {
   "cell_type": "code",
   "execution_count": null,
   "metadata": {},
   "outputs": [],
   "source": [
    "# use constituents from original model\n",
    "c = model.constituents\n",
    "amp, ph = pyTMD.solve.constants(ts.tide, h-tide.data, c,\n",
    "    deltat=deltat, corrections=model.corrections)\n",
    "# calculate complex phase in radians for Euler's\n",
    "cph = np.atleast_2d(-1j*ph*np.pi/180.0)\n",
    "# calculate constituent oscillation\n",
    "hc = np.ma.array(amp*np.exp(cph))\n",
    "hc.mask = hc.data == hc.fill_value\n",
    "sol = pyTMD.predict.time_series(ts.tide, hc, c,\n",
    "    deltat=deltat, corrections=model.corrections)\n",
    "sol += tide"
   ]
  },
  {
   "cell_type": "markdown",
   "metadata": {},
   "source": [
    "## Calculate Periodograms to Compare Frequencies"
   ]
  },
  {
   "cell_type": "code",
   "execution_count": null,
   "metadata": {},
   "outputs": [],
   "source": [
    "# create array of angular frequencies\n",
    "N = 1000\n",
    "# frequency range (use Sa to M4)\n",
    "sa, = pyTMD.arguments.frequency('sa')\n",
    "m4, = pyTMD.arguments.frequency('m4')\n",
    "omega = np.linspace(sa, m4, N)\n",
    "# calculate Lomb-Scargle periodograms\n",
    "lssa_h = scipy.signal.lombscargle(ts.J2000, h, omega, normalize=True)\n",
    "lssa_tide = scipy.signal.lombscargle(ts.J2000, tide, omega, normalize=True)\n",
    "lssa_sol = scipy.signal.lombscargle(ts.J2000, sol, omega, normalize=True)"
   ]
  },
  {
   "cell_type": "markdown",
   "metadata": {},
   "source": [
    "## Compare predictions and measured values"
   ]
  },
  {
   "cell_type": "code",
   "execution_count": null,
   "metadata": {},
   "outputs": [],
   "source": [
    "%matplotlib widget\n",
    "# create figure\n",
    "f2 = plt.figure(num=2, clear=True, figsize=(9, 6))\n",
    "ax2 = f2.subplots(ncols=2)\n",
    "# plot time series results\n",
    "ax2[0].plot(ts.year, h, label='Tide Gauge', lw=2, color='darkorchid')\n",
    "ax2[0].plot(ts.year, tide, label='Tide Prediction', color='mediumseagreen')\n",
    "ax2[0].plot(ts.year, sol, label='Tide Solution', color='darkorange')\n",
    "# plot Lomb-Scargle power\n",
    "# convert to cycles per solar day\n",
    "f = omega*86400.0/(2.0*np.pi)\n",
    "ax2[1].semilogy(f, lssa_h, label='Tide Gauge', lw=2, color='darkorchid')\n",
    "ax2[1].semilogy(f, lssa_tide, label='Tide Prediction', color='mediumseagreen')\n",
    "ax2[1].semilogy(f, lssa_sol, label='Tide Solution', color='darkorange')\n",
    "# add figure and axes titles\n",
    "f2.suptitle(f'{station_name} ({lat:0.2f}\\u00B0N, {lon:0.2f}\\u00B0E)')\n",
    "ax2[0].set_title('Time Series')\n",
    "ax2[1].set_title('Lomb-Scargle Periodogram')\n",
    "# add labels\n",
    "ax2[0].set_xlabel('Time [yr]')\n",
    "ax2[0].set_ylabel('Water Height [m]')\n",
    "ax2[1].set_xlabel('Frequency [cpd]')\n",
    "ax2[1].set_ylabel('Power')\n",
    "# add legend\n",
    "lgd = ax2[1].legend(frameon=False)\n",
    "lgd.get_frame().set_alpha(1.0)\n",
    "for line in lgd.get_lines():\n",
    "    line.set_linewidth(6)\n",
    "f2.tight_layout()\n",
    "plt.show()"
   ]
  },
  {
   "cell_type": "code",
   "execution_count": null,
   "metadata": {},
   "outputs": [],
   "source": [
    "%matplotlib widget\n",
    "# create figure\n",
    "f3 = plt.figure(num=3, clear=True, figsize=(9, 5.5))\n",
    "ax3 = f3.subplots(ncols=2, sharex=True, sharey=True)\n",
    "xmin = np.minimum(tide.min(), sol.min())\n",
    "xmax = np.maximum(tide.max(), sol.max())\n",
    "ymin = np.minimum(h.min(), tide.min())\n",
    "ymax = np.maximum(h.max(), tide.max())\n",
    "ax3[0].hist2d(h, tide, bins=60, range=((xmin, xmax), (ymin, ymax)), cmap='Reds')\n",
    "ax3[1].hist2d(h, sol, bins=60, range=((xmin, xmax), (ymin, ymax)), cmap='Reds')\n",
    "ax3[0].axline((0, 0), slope=1, color='0.4', lw=1.0)\n",
    "ax3[1].axline((0, 0), slope=1, color='0.4', lw=1.0)\n",
    "ax3[0].set_xlabel('Tide Gauge [m]')\n",
    "ax3[1].set_xlabel('Tide Gauge [m]')\n",
    "ax3[0].set_ylabel('Tide Prediction [m]')\n",
    "ax3[0].set_title(model.name)\n",
    "ax3[1].set_title('Solution')\n",
    "ax3[0].set_aspect('equal', adjustable='box')\n",
    "ax3[1].set_aspect('equal', adjustable='box')\n",
    "f3.suptitle(f'{station_name} ({lat:0.2f}\\u00B0N, {lon:0.2f}\\u00B0E)')\n",
    "# adjust subplot within figure\n",
    "f3.subplots_adjust(left=0.075,right=0.975,bottom=0.1,top=0.90, wspace=0.075)\n",
    "f3.show()"
   ]
  }
 ],
 "metadata": {
  "kernelspec": {
   "display_name": "py13",
   "language": "python",
   "name": "python3"
  },
  "language_info": {
   "codemirror_mode": {
    "name": "ipython",
    "version": 3
   },
   "file_extension": ".py",
   "mimetype": "text/x-python",
   "name": "python",
   "nbconvert_exporter": "python",
   "pygments_lexer": "ipython3",
   "version": "3.13.0"
  }
 },
 "nbformat": 4,
 "nbformat_minor": 4
}
