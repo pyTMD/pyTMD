{
 "cells": [
  {
   "cell_type": "markdown",
   "metadata": {},
   "source": [
    "Compare with Tide Gauges\n",
    "========================\n",
    "\n",
    "This ({nb-download}`notebook <Compare-Tide-Gauges.ipynb>`) compares model predictions with tide gauge data provided by the [University of Hawaii Sea Level Center](https://uhslc.soest.hawaii.edu/network/)\n",
    "\n",
    "OTIS format tidal solutions provided by Oregon State University and ESR  \n",
    "- [http://volkov.oce.orst.edu/tides/region.html](http://volkov.oce.orst.edu/tides/region.html) \n",
    "- [https://www.esr.org/research/polar-tide-models/list-of-polar-tide-models/](https://www.esr.org/research/polar-tide-models/list-of-polar-tide-models/)\n",
    "- [ftp://ftp.esr.org/pub/datasets/tmd/](ftp://ftp.esr.org/pub/datasets/tmd/)  \n",
    "\n",
    "Global Tide Model (GOT) solutions provided by Richard Ray at GSFC  \n",
    "- [https://earth.gsfc.nasa.gov/geo/data/ocean-tide-models](https://earth.gsfc.nasa.gov/geo/data/ocean-tide-models)\n",
    "\n",
    "Finite Element Solution (FES) provided by AVISO  \n",
    "- [https://www.aviso.altimetry.fr/en/data/products/auxiliary-products/global-tide-fes.html](https://www.aviso.altimetry.fr/en/data/products/auxiliary-products/global-tide-fes.html)\n",
    "        \n",
    "## Python Dependencies\n",
    " - [numpy: Scientific Computing Tools For Python](https://www.numpy.org)  \n",
    " - [scipy: Scientific Tools for Python](https://www.scipy.org/)  \n",
    " - [pyproj: Python interface to PROJ library](https://pypi.org/project/pyproj/)  \n",
    " - [netCDF4: Python interface to the netCDF C library](https://unidata.github.io/netcdf4-python/)  \n",
    " - [matplotlib: Python 2D plotting library](http://matplotlib.org/)  \n",
    "\n",
    "## Program Dependencies\n",
    "\n",
    "- `crs.py`: Coordinate Reference System (CRS) routines  \n",
    "- `io.model.py`: retrieves tide model parameters for named tide models  \n",
    "- `io.OTIS.py`: extract tidal harmonic constants from OTIS tide models  \n",
    "- `io.ATLAS.py`: extract tidal harmonic constants from ATLAS netcdf models  \n",
    "- `io.GOT.py`: extract tidal harmonic constants from GOT tide models  \n",
    "- `io.FES.py`: extract tidal harmonic constants from FES tide models  \n",
    "\n",
    "This notebook uses Jupyter widgets to set parameters for calculating the tidal values.  "
   ]
  },
  {
   "cell_type": "markdown",
   "metadata": {},
   "source": [
    "## Load modules"
   ]
  },
  {
   "cell_type": "code",
   "execution_count": null,
   "metadata": {},
   "outputs": [],
   "source": [
    "from __future__ import print_function\n",
    "\n",
    "import netCDF4\n",
    "import numpy as np\n",
    "import matplotlib.pyplot as plt\n",
    "import IPython.display\n",
    "import ipywidgets\n",
    "\n",
    "# import tide programs\n",
    "import pyTMD.tools\n",
    "import pyTMD.compute\n",
    "import pyTMD.utilities\n",
    "import timescale\n",
    "# autoreload\n",
    "%load_ext autoreload\n",
    "%autoreload 2"
   ]
  },
  {
   "cell_type": "markdown",
   "metadata": {},
   "source": [
    "## Set parameters for program\n",
    "\n",
    "- Model directory  \n",
    "- Tide model  "
   ]
  },
  {
   "cell_type": "code",
   "execution_count": null,
   "metadata": {},
   "outputs": [],
   "source": [
    "# available model list\n",
    "model_list = sorted(pyTMD.io.model.ocean_elevation())\n",
    "# display widgets for setting directory and model\n",
    "TMDwidgets = pyTMD.tools.widgets()\n",
    "TMDwidgets.model.options = model_list\n",
    "TMDwidgets.model.value = 'GOT4.10'\n",
    "TMDwidgets.VBox([\n",
    "    TMDwidgets.directory,\n",
    "    TMDwidgets.model,\n",
    "    TMDwidgets.compress,\n",
    "])"
   ]
  },
  {
   "cell_type": "markdown",
   "metadata": {},
   "source": [
    "## Find Tide Gauge Data"
   ]
  },
  {
   "cell_type": "code",
   "execution_count": null,
   "metadata": {},
   "outputs": [],
   "source": [
    "# remote directory with tide gauge data\n",
    "HOST = 'https://uhslc.soest.hawaii.edu/data/netcdf/rqds/global/hourly/'\n",
    "f = pyTMD.utilities.uhslc_list(HOST, pattern=r'(.*?).nc', sort=True)\n",
    "# create dropdown with all tide gauge data\n",
    "TMDwidgets.gauges = ipywidgets.Dropdown(\n",
    "    options=f,\n",
    "    value=f[0],\n",
    "    description='Tide Gauges:',\n",
    "    disabled=False,\n",
    "    style=TMDwidgets.style,\n",
    ")\n",
    "display(TMDwidgets.gauges)"
   ]
  },
  {
   "cell_type": "markdown",
   "metadata": {},
   "source": [
    "## Download and Read Tide Gauge Data"
   ]
  },
  {
   "cell_type": "code",
   "execution_count": 18,
   "metadata": {},
   "outputs": [],
   "source": [
    "# open tide gauge data\n",
    "fid = pyTMD.utilities.from_http([HOST,TMDwidgets.gauges.value])\n",
    "with netCDF4.Dataset(fid.filename, memory=fid.read()) as fileID:\n",
    "    # read time and station name\n",
    "    delta_time = fileID.variables['time'][:].squeeze()\n",
    "    date_string = fileID.variables['time'].units\n",
    "    station_name = netCDF4.chartostring(fileID.variables['station_name'][:])\n",
    "    # get latitude and longitude\n",
    "    lat = fileID.variables['lat'][:]\n",
    "    lon = fileID.variables['lon'][:]\n",
    "    # get sea level heights\n",
    "    sea_level = fileID.variables['sea_level'][:].squeeze()\n",
    "# convert time\n",
    "epoch, to_sec = timescale.time.parse_date_string(date_string)\n",
    "ts = timescale.from_deltatime(delta_time*to_sec, epoch=epoch)\n",
    "deltat = ts.tt_ut1\n",
    "# remove the mean and convert to meters\n",
    "h = (sea_level - sea_level.mean())/1000.0"
   ]
  },
  {
   "cell_type": "markdown",
   "metadata": {},
   "source": [
    "## Predict tides at measurement times"
   ]
  },
  {
   "cell_type": "code",
   "execution_count": 19,
   "metadata": {},
   "outputs": [],
   "source": [
    "# calculate tide elevations\n",
    "tide = pyTMD.compute.tide_elevations(lon, lat, ts.to_datetime(),\n",
    "    DIRECTORY=TMDwidgets.directory.value, \n",
    "    MODEL=TMDwidgets.model.value, TYPE='time series', \n",
    "    EPSG=4326, TIME='datetime', EXTRAPOLATE=True).squeeze()"
   ]
  },
  {
   "cell_type": "markdown",
   "metadata": {},
   "source": [
    "## Compare predictions and measured values"
   ]
  },
  {
   "cell_type": "code",
   "execution_count": null,
   "metadata": {},
   "outputs": [],
   "source": [
    "%matplotlib widget\n",
    "fig, ax = plt.subplots()\n",
    "ax.plot(ts.year, h, label='Tide Gauge Data', lw=2)\n",
    "ax.plot(ts.year, tide, label='Tide Prediction')\n",
    "title = f'{station_name[0]} ({lat.data[0]:0.2f}\\u00B0N, {lon.data[0]:0.2f}\\u00B0E)'\n",
    "ax.set_title(title)\n",
    "lgd = ax.legend(frameon=False)\n",
    "lgd.get_frame().set_alpha(1.0)\n",
    "for line in lgd.get_lines():\n",
    "    line.set_linewidth(6)\n",
    "plt.tight_layout()\n",
    "plt.show()"
   ]
  }
 ],
 "metadata": {
  "kernelspec": {
   "display_name": "py13",
   "language": "python",
   "name": "python3"
  },
  "language_info": {
   "codemirror_mode": {
    "name": "ipython",
    "version": 3
   },
   "file_extension": ".py",
   "mimetype": "text/x-python",
   "name": "python",
   "nbconvert_exporter": "python",
   "pygments_lexer": "ipython3",
   "version": "3.13.0"
  }
 },
 "nbformat": 4,
 "nbformat_minor": 2
}
